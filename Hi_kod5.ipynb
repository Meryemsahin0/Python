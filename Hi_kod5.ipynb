{
  "nbformat": 4,
  "nbformat_minor": 0,
  "metadata": {
    "colab": {
      "provenance": [],
      "authorship_tag": "ABX9TyM6gX7pAt/Qdhh8Is1fMO79",
      "include_colab_link": true
    },
    "kernelspec": {
      "name": "python3",
      "display_name": "Python 3"
    },
    "language_info": {
      "name": "python"
    }
  },
  "cells": [
    {
      "cell_type": "markdown",
      "metadata": {
        "id": "view-in-github",
        "colab_type": "text"
      },
      "source": [
        "<a href=\"https://colab.research.google.com/github/Meryemsahin0/Python/blob/main/Hi_kod5.ipynb\" target=\"_parent\"><img src=\"https://colab.research.google.com/assets/colab-badge.svg\" alt=\"Open In Colab\"/></a>"
      ]
    },
    {
      "cell_type": "code",
      "execution_count": 2,
      "metadata": {
        "id": "GsJMH9mFxS2p"
      },
      "outputs": [],
      "source": [
        "\"\"\"Bir sözlük oluşturulur ve bu sözlükte öğrencilerin isimleri ve Matematik, Fizik, Kimya notları tutulur. Kullanıcıdan isim ve ders ismi(Matematik, Fizik, Kimya) istenir ve bu bilgilere göre çıktı verilir.\"\"\"\n",
        "\n",
        "sozluk = {\n",
        "    'Meryem': {\"Matematik\": 88, \"Fizik\": 84, \"Kimya\": 90},\n",
        "    'Melek': {\"Matematik\": 87, \"Fizik\": 90, \"Kimya\": 85},\n",
        "    'Melike': {\"Matematik\": 97, \"Fizik\": 96, \"Kimya\": 91}\n",
        "}\n",
        "\n"
      ]
    },
    {
      "cell_type": "code",
      "source": [
        "isim=input(\"İsmini giriniz..:\")\n",
        "ders=input(\"ders giriniz..:\")\n",
        "\n",
        "for i in sozluk:\n",
        "  if isim == i:\n",
        "    for k in sozluk[i]:\n",
        "      if ders == k:\n",
        "        print(sozluk[i][k])\n",
        "      else:\n",
        "        pass\n",
        "  else:\n",
        "      pass"
      ],
      "metadata": {
        "colab": {
          "base_uri": "https://localhost:8080/"
        },
        "id": "TxaoJzat09rS",
        "outputId": "23e2f969-1b81-412a-9e52-71acd5261ec6"
      },
      "execution_count": 3,
      "outputs": [
        {
          "output_type": "stream",
          "name": "stdout",
          "text": [
            "İsmini giriniz..:Meryem\n",
            "ders giriniz..:Fizik\n",
            "84\n"
          ]
        }
      ]
    },
    {
      "cell_type": "code",
      "source": [
        "\"\"\"Sözlük üzerinde değerleri değiştirme, yeni değer ekleme, kullanıcıya ulaşmak istediği bilgileri sorma gibi uygulamalar yapın.\"\"\"\n",
        "sozluk[\"Meryem\"][\"Fizik\"]=76\n",
        "print(sozluk)\n",
        ""
      ],
      "metadata": {
        "colab": {
          "base_uri": "https://localhost:8080/"
        },
        "id": "zunamQehJQgF",
        "outputId": "bdb4d271-01d7-4ff9-cdc3-4e7a637120d8"
      },
      "execution_count": 9,
      "outputs": [
        {
          "output_type": "stream",
          "name": "stdout",
          "text": [
            "{'Meryem': {'Matematik': 88, 'Fizik': 76, 'Kimya': 90}, 'Melek': {'Matematik': 87, 'Fizik': 90, 'Kimya': 85}, 'Melike': {'Matematik': 97, 'Fizik': 96, 'Kimya': 91}}\n"
          ]
        }
      ]
    },
    {
      "cell_type": "code",
      "source": [
        "sozluk[\"Meryem\"][\"Türkçe\"]=67\n",
        "print(sozluk)"
      ],
      "metadata": {
        "colab": {
          "base_uri": "https://localhost:8080/"
        },
        "id": "nL5N9WdTgMsO",
        "outputId": "cc01df27-654f-4371-c04b-6fe49e2f567e"
      },
      "execution_count": 10,
      "outputs": [
        {
          "output_type": "stream",
          "name": "stdout",
          "text": [
            "{'Meryem': {'Matematik': 88, 'Fizik': 76, 'Kimya': 90, 'Türkçe': 67}, 'Melek': {'Matematik': 87, 'Fizik': 90, 'Kimya': 85}, 'Melike': {'Matematik': 97, 'Fizik': 96, 'Kimya': 91}}\n"
          ]
        }
      ]
    }
  ]
}