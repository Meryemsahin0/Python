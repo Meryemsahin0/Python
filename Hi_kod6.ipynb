{
  "nbformat": 4,
  "nbformat_minor": 0,
  "metadata": {
    "colab": {
      "provenance": [],
      "authorship_tag": "ABX9TyMwVNe7KFTue9xgJY0BNmwr",
      "include_colab_link": true
    },
    "kernelspec": {
      "name": "python3",
      "display_name": "Python 3"
    },
    "language_info": {
      "name": "python"
    }
  },
  "cells": [
    {
      "cell_type": "markdown",
      "metadata": {
        "id": "view-in-github",
        "colab_type": "text"
      },
      "source": [
        "<a href=\"https://colab.research.google.com/github/Meryemsahin0/Python/blob/main/Hi_kod6.ipynb\" target=\"_parent\"><img src=\"https://colab.research.google.com/assets/colab-badge.svg\" alt=\"Open In Colab\"/></a>"
      ]
    },
    {
      "cell_type": "code",
      "execution_count": null,
      "metadata": {
        "id": "tBTiGHfZhAhg"
      },
      "outputs": [],
      "source": [
        "\"\"\" Sayılardan oluşan bir boyutlu array oluşturulur. Arrayi oluştururken sayıların veri tipini integer olarak belirtilir. Oluşturulan arrayin boyut, eleman sayısı bilgilerine bakılır.\n",
        " İki ve üç boyutlu arrayler oluşturulur. Bu arraylerin boyut, eleman sayısı, satır, sütun bilgilerine ulaşılır. Arrayler üzerinde indexleme ve dilimleme(slicing) işlemi yapılır.\n",
        " Numpy fonksiyonu kullanarak bir, iki ve üç boyutlu arrayler oluşturulur. Arrayler üzerinde indexleme ve dilimleme(slicing) işlemi yapılır. \"\"\""
      ]
    },
    {
      "cell_type": "code",
      "source": [
        "import numpy as np\n",
        "\n",
        "my_array=np.array([13,19,1187,1948,1517,2024],dtype=int)\n",
        "print(type(my_array))\n",
        "print(my_array.shape)\n",
        "print(len(my_array))"
      ],
      "metadata": {
        "colab": {
          "base_uri": "https://localhost:8080/"
        },
        "id": "XMfi0hZlhHYc",
        "outputId": "cbc61a8a-b5c8-47ae-c802-2c6f3973beca"
      },
      "execution_count": null,
      "outputs": [
        {
          "output_type": "stream",
          "name": "stdout",
          "text": [
            "<class 'numpy.ndarray'>\n",
            "(6,)\n",
            "6\n"
          ]
        }
      ]
    },
    {
      "cell_type": "code",
      "source": [
        "array1=np.array([[1,2,3],[4,5,6],[5,8,9]])\n",
        "print(type(array1))\n",
        "print(array1.shape)\n",
        "print(len(array1))\n",
        "print()"
      ],
      "metadata": {
        "colab": {
          "base_uri": "https://localhost:8080/"
        },
        "id": "EaPbTQFx5Ef7",
        "outputId": "d974dc9d-fa14-4d66-b935-45aa31db0e13"
      },
      "execution_count": null,
      "outputs": [
        {
          "output_type": "stream",
          "name": "stdout",
          "text": [
            "<class 'numpy.ndarray'>\n",
            "(3, 3)\n",
            "3\n"
          ]
        }
      ]
    },
    {
      "cell_type": "code",
      "source": [
        "import numpy as np\n",
        "\n",
        "\n",
        "arr1d = np.array([1, 2, 3, 4, 5])\n",
        "print(f\"1 boyutlu array: {arr1d}\")\n",
        "print(f\"1 boyutlu array'den eleman alma: {arr1d[2]}\")\n",
        "print(f\"1 boyutlu array'den dilim alma: {arr1d[1:4]}\")\n",
        "\n",
        "\n",
        "arr2d = np.array([[1, 2, 3], [4, 5, 6], [7, 8, 9]])\n",
        "print(f\"\\n2 boyutlu array: {arr2d}\")\n",
        "print(f\"2 boyutlu array'den eleman alma: {arr2d[1, 2]}\")\n",
        "print(f\"2 boyutlu array'den dilim alma: {arr2d[1:, 0:2]}\")\n",
        "\n",
        "\n",
        "arr3d = np.array([[[1, 2], [3, 4]], [[5, 6], [7, 8]]])\n",
        "print(f\"\\n3 boyutlu array: {arr3d}\")\n",
        "print(f\"3 boyutlu array'den eleman alma: {arr3d[1, 0, 1]}\")\n",
        "print(f\"3 boyutlu array'den dilim alma: {arr3d[:, 1, :]}\")"
      ],
      "metadata": {
        "colab": {
          "base_uri": "https://localhost:8080/"
        },
        "id": "95FcvazMY_WY",
        "outputId": "9c8782b8-c57d-4f96-a5c3-bfb90371728d"
      },
      "execution_count": 1,
      "outputs": [
        {
          "output_type": "stream",
          "name": "stdout",
          "text": [
            "1 boyutlu array: [1 2 3 4 5]\n",
            "1 boyutlu array'den eleman alma: 3\n",
            "1 boyutlu array'den dilim alma: [2 3 4]\n",
            "\n",
            "2 boyutlu array: [[1 2 3]\n",
            " [4 5 6]\n",
            " [7 8 9]]\n",
            "2 boyutlu array'den eleman alma: 6\n",
            "2 boyutlu array'den dilim alma: [[4 5]\n",
            " [7 8]]\n",
            "\n",
            "3 boyutlu array: [[[1 2]\n",
            "  [3 4]]\n",
            "\n",
            " [[5 6]\n",
            "  [7 8]]]\n",
            "3 boyutlu array'den eleman alma: 6\n",
            "3 boyutlu array'den dilim alma: [[3 4]\n",
            " [7 8]]\n"
          ]
        }
      ]
    }
  ]
}