{
  "nbformat": 4,
  "nbformat_minor": 0,
  "metadata": {
    "colab": {
      "provenance": [],
      "authorship_tag": "ABX9TyNORFLgBYFMB3UyHnR6bsLc",
      "include_colab_link": true
    },
    "kernelspec": {
      "name": "python3",
      "display_name": "Python 3"
    },
    "language_info": {
      "name": "python"
    }
  },
  "cells": [
    {
      "cell_type": "markdown",
      "metadata": {
        "id": "view-in-github",
        "colab_type": "text"
      },
      "source": [
        "<a href=\"https://colab.research.google.com/github/Meryemsahin0/Python/blob/main/Merge_sort.ipynb\" target=\"_parent\"><img src=\"https://colab.research.google.com/assets/colab-badge.svg\" alt=\"Open In Colab\"/></a>"
      ]
    },
    {
      "cell_type": "code",
      "execution_count": null,
      "metadata": {
        "id": "zBKEmkc8Pv40"
      },
      "outputs": [],
      "source": [
        "\"\"\"Proje 2\n",
        "[16,21,11,8,12,22] -> Merge Sort\n",
        "\n",
        "Yukarıdaki dizinin sort türüne göre aşamalarını yazınız.\n",
        "Big-O gösterimini yazınız.\"\"\"\n",
        "\n",
        "#[16,21,11] <----> [8,12,22]\n",
        "#[11,16,21] <---> [8,12,22]\n",
        "#8 (ilk parçanın en küçüğü)\n",
        "#11 (ilk parçanın bir sonraki en küçüğü)\n",
        "#12 (ikinci parçanın en küçüğü)\n",
        "#16 (ilk parçanın bir sonraki en küçüğü)\n",
        "#21 (ilk parçanın bir sonraki en küçüğü)\n",
        "#22 (ikinci parçanın bir sonraki en küçüğü)\n",
        "#Böylece birleştirme sonucunda sıralanmış dizi elde edilir: [8, 11, 12, 16, 21, 22]\n",
        "\n",
        "\n",
        "#Big-o gösterimi n(logn)"
      ]
    },
    {
      "cell_type": "code",
      "source": [
        "\"\"\"Proje 3\n",
        "[7, 5, 1, 8, 3, 6, 0, 9, 4, 2] dizisinin Binary-Search-Tree aşamalarını yazınız.\n",
        "\n",
        "Örnek: root x'dir. root'un sağından y bulunur. Solunda z bulunur vb.\"\"\"\n",
        "\"\"\"Kök: 7\n",
        "\n",
        "5, Sol: 5\n",
        "1, Sol: 1\n",
        "0, Sol: 0\n",
        "3, Sağ: 3\n",
        "6, Sağ: 6\n",
        "8, Sağ: 8\n",
        "9, Sağ: 9\"\"\""
      ],
      "metadata": {
        "id": "FIK5CAVg2Y8o"
      },
      "execution_count": null,
      "outputs": []
    }
  ]
}