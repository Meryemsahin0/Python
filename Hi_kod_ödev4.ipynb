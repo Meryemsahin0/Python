{
  "nbformat": 4,
  "nbformat_minor": 0,
  "metadata": {
    "colab": {
      "provenance": [],
      "authorship_tag": "ABX9TyPCtCSus1vFvBq3Ju2XHHfL",
      "include_colab_link": true
    },
    "kernelspec": {
      "name": "python3",
      "display_name": "Python 3"
    },
    "language_info": {
      "name": "python"
    }
  },
  "cells": [
    {
      "cell_type": "markdown",
      "metadata": {
        "id": "view-in-github",
        "colab_type": "text"
      },
      "source": [
        "<a href=\"https://colab.research.google.com/github/Meryemsahin0/Python/blob/main/Hi_kod_%C3%B6dev4.ipynb\" target=\"_parent\"><img src=\"https://colab.research.google.com/assets/colab-badge.svg\" alt=\"Open In Colab\"/></a>"
      ]
    },
    {
      "cell_type": "code",
      "execution_count": 2,
      "metadata": {
        "id": "Aj5VELkhWnVv",
        "colab": {
          "base_uri": "https://localhost:8080/",
          "height": 105
        },
        "outputId": "231002d2-ff1f-4c45-8a6d-5e1617185875"
      },
      "outputs": [
        {
          "output_type": "execute_result",
          "data": {
            "text/plain": [
              "'List:\\n\\nKullanım amacı: Listelerin yapıları ve kullanım amaçları anlatılır. İç içe liste yapılarından ve farklı veri tipinde eleman bulundurabildiği gösterilir.\\n\\nIndexing ve slicing: Listeler üzerinde index ve slicing işlemi anlatılır. Aynı işlem liste içinde liste barındıran yapılar içinde gösterilir.\\n\\nList ve split fonksiyonu: List ve split fonksiyonlarının listeler üzerindeki kullanımı gösterilir.\\n\\nDöngüler: Bir listenin elemanlarına for döngüsü ile erişim gösterilir. Bu örneğe range fonksiyonu da eklenir. \\n\\nAppend fonksiyonu: Append fonksiyonu ile listelere eleman ve liste ekleme gösterilir.\\n\\nInsert fonksiyonu: Listeye eleman ekleme işlemini belirtilen index üzerinden yapan insert fonksiyonu anlatılır.\\n\\nExtend fonksiyonu: İki elemanı birbirine ekleyen extend fonksiyonu gösterilir.\\n\\nRemove fonksiyonu: Belirtilen öğeyi silen remove fonksiyonu anlatılır.\\n\\nPop fonksiyonu: Belirtilen indexteki elemanı silen pop fonksiyonu anlatılır.\\n\\nClear fonksiyonu: Listenin tüm elemanlarını silen clear fonksiyonu anlatılır.\\n\\nSort fonksiyonu: Listenin elemanlarını sıralayan sort fonksiyonu anlatılır.\\n\\nReverse fonksiyonu: Listeyi ters çeviren reverse fonksiyonu anlatılır.\\n\\nCopy fonksiyonu: Listeyi kopyalayan copy fonksiyonu anlatılır.'"
            ],
            "application/vnd.google.colaboratory.intrinsic+json": {
              "type": "string"
            }
          },
          "metadata": {},
          "execution_count": 2
        }
      ],
      "source": [
        "\"\"\"List:\n",
        "\n",
        "Kullanım amacı: Listelerin yapıları ve kullanım amaçları anlatılır. İç içe liste yapılarından ve farklı veri tipinde eleman bulundurabildiği gösterilir.\n",
        "\n",
        "Indexing ve slicing: Listeler üzerinde index ve slicing işlemi anlatılır. Aynı işlem liste içinde liste barındıran yapılar içinde gösterilir.\n",
        "\n",
        "List ve split fonksiyonu: List ve split fonksiyonlarının listeler üzerindeki kullanımı gösterilir.\n",
        "\n",
        "Döngüler: Bir listenin elemanlarına for döngüsü ile erişim gösterilir. Bu örneğe range fonksiyonu da eklenir.\n",
        "\n",
        "Append fonksiyonu: Append fonksiyonu ile listelere eleman ve liste ekleme gösterilir.\n",
        "\n",
        "Insert fonksiyonu: Listeye eleman ekleme işlemini belirtilen index üzerinden yapan insert fonksiyonu anlatılır.\n",
        "\n",
        "Extend fonksiyonu: İki elemanı birbirine ekleyen extend fonksiyonu gösterilir.\n",
        "\n",
        "Remove fonksiyonu: Belirtilen öğeyi silen remove fonksiyonu anlatılır.\n",
        "\n",
        "Pop fonksiyonu: Belirtilen indexteki elemanı silen pop fonksiyonu anlatılır.\n",
        "\n",
        "Clear fonksiyonu: Listenin tüm elemanlarını silen clear fonksiyonu anlatılır.\n",
        "\n",
        "Sort fonksiyonu: Listenin elemanlarını sıralayan sort fonksiyonu anlatılır.\n",
        "\n",
        "Reverse fonksiyonu: Listeyi ters çeviren reverse fonksiyonu anlatılır.\n",
        "\n",
        "Copy fonksiyonu: Listeyi kopyalayan copy fonksiyonu anlatılır.\"\"\"\n"
      ]
    },
    {
      "cell_type": "code",
      "source": [
        "\"\"\"Aşağıdaki işlemleri indexing ve slicing kullanarak liste üzerinde uygulayın.\n",
        "\n",
        "liste = [\"Python\",True,9,\"3\",8.4,\"Hi-Kod\",\"False\",4.7]\n",
        "\n",
        "\"3\" değerine ulaşmak için indexleme yapın.\n",
        "\n",
        "\"Hi-Kod\" değerine ulaşmak için indexleme yapın.\n",
        "\n",
        "4.7 değerine ulaşmak için indexleme yapın.\n",
        "\n",
        "9,\"3\",8.4,\"Hi-Kod\" değerlerine ulaşmak için slicing yapın.\n",
        "\n",
        "8.4,\"Hi-Kod\",\"False\",4.7 değerlerine ulaşmak için slicing yapın.\n",
        "\n",
        "Verilen listede bulunan string veri tipindeki öğeleri yeni_liste isimli listeye eklenir.\n",
        "\n",
        "liste = [\"Python\",True,9,\"3\",8.4,\"Hi-Kod\",\"False\",4.7]\n",
        "\n",
        "Enumerate methodunu araştırın ve aşağıdaki örneği enumerate methodu ile yapın.\n",
        "\n",
        "for index in range(len(meyveler)):\n",
        "\n",
        "    print(\"{}. indexte bulunan meyve: {}\".format(index,meyveler[index])\"\"\""
      ],
      "metadata": {
        "id": "-vIOmp-Hw65A"
      },
      "execution_count": null,
      "outputs": []
    },
    {
      "cell_type": "code",
      "source": [
        "liste = [\"Python\",True,9,\"3\",8.4,\"Hi-Kod\",\"False\",4.7]\n",
        "print(liste[3])\n",
        "print(liste[5])\n",
        "print(liste[7])\n",
        "print(liste[2:6])\n",
        "print(liste[4:8])"
      ],
      "metadata": {
        "colab": {
          "base_uri": "https://localhost:8080/"
        },
        "id": "q64pG2iixSVT",
        "outputId": "cb9ec7a2-3a75-46ec-fc14-af38e890d1ed"
      },
      "execution_count": 9,
      "outputs": [
        {
          "output_type": "stream",
          "name": "stdout",
          "text": [
            "3\n",
            "Hi-Kod\n",
            "4.7\n",
            "[9, '3', 8.4, 'Hi-Kod']\n",
            "[8.4, 'Hi-Kod', 'False', 4.7]\n"
          ]
        }
      ]
    },
    {
      "cell_type": "code",
      "source": [
        "liste = [\"Python\",True,9,\"3\",8.4,\"Hi-Kod\",\"False\",4.7]\n",
        "liste1=[]\n",
        "def Yeni_liste(liste):\n",
        "  for i in liste:\n",
        "    if type(i)==str:\n",
        "      liste1.append(i)\n",
        "    else:\n",
        "      pass\n",
        "Yeni_liste(liste)\n",
        "print(liste1)"
      ],
      "metadata": {
        "colab": {
          "base_uri": "https://localhost:8080/"
        },
        "id": "Kcy4OFtgyxfo",
        "outputId": "0c203119-e491-47da-e3bd-5ec3bc03458b"
      },
      "execution_count": 28,
      "outputs": [
        {
          "output_type": "stream",
          "name": "stdout",
          "text": [
            "['Python', '3', 'Hi-Kod', 'False']\n"
          ]
        }
      ]
    },
    {
      "cell_type": "code",
      "source": [
        "\n",
        "liste = [\"Python\",True,9,\"3\",8.4,\"Hi-Kod\",\"False\",4.7]\n",
        "for index,value in enumerate(liste):\n",
        "  print(\"{}. indexteki eleman {}dır.\".format(index,value))\n",
        "enumerate(liste)"
      ],
      "metadata": {
        "colab": {
          "base_uri": "https://localhost:8080/"
        },
        "id": "AKfaNdKO05by",
        "outputId": "1e868273-a17a-40b0-baee-fc4f3f4c5d03"
      },
      "execution_count": 32,
      "outputs": [
        {
          "output_type": "stream",
          "name": "stdout",
          "text": [
            "0. indexteki eleman Pythondır.\n",
            "1. indexteki eleman Truedır.\n",
            "2. indexteki eleman 9dır.\n",
            "3. indexteki eleman 3dır.\n",
            "4. indexteki eleman 8.4dır.\n",
            "5. indexteki eleman Hi-Koddır.\n",
            "6. indexteki eleman Falsedır.\n",
            "7. indexteki eleman 4.7dır.\n"
          ]
        },
        {
          "output_type": "execute_result",
          "data": {
            "text/plain": [
              "<enumerate at 0x7c647cfa7d40>"
            ]
          },
          "metadata": {},
          "execution_count": 32
        }
      ]
    }
  ]
}