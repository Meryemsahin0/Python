{
  "nbformat": 4,
  "nbformat_minor": 0,
  "metadata": {
    "colab": {
      "provenance": [],
      "authorship_tag": "ABX9TyPgZjvKFVG4mBgfaWujSWkx",
      "include_colab_link": true
    },
    "kernelspec": {
      "name": "python3",
      "display_name": "Python 3"
    },
    "language_info": {
      "name": "python"
    }
  },
  "cells": [
    {
      "cell_type": "markdown",
      "metadata": {
        "id": "view-in-github",
        "colab_type": "text"
      },
      "source": [
        "<a href=\"https://colab.research.google.com/github/Meryemsahin0/Python/blob/main/Selection_%C4%B0nsertion_sort.ipynb\" target=\"_parent\"><img src=\"https://colab.research.google.com/assets/colab-badge.svg\" alt=\"Open In Colab\"/></a>"
      ]
    },
    {
      "cell_type": "code",
      "execution_count": null,
      "metadata": {
        "id": "7kj36yZrPr8y"
      },
      "outputs": [],
      "source": [
        "\"\"\"[22,27,16,2,18,6] -> Insertion Sort\n",
        "\n",
        "Yukarı verilen dizinin sort türüne göre aşamalarını yazınız.\n",
        "\n",
        "Big-O gösterimini yazınız.\n",
        "\n",
        "Time Complexity: Dizi sıralandıktan sonra 18 sayısı aşağıdaki case'lerden hangisinin kapsamına girer? Yazınız\n",
        "\n",
        "Average case: Aradığımız sayının ortada olması\n",
        "Worst case: Aradığımız sayının sonda olması\n",
        "Best case: Aradığımız sayının dizinin en başında olması.\"\"\"\n",
        "#Sıralanmış liste: [2, 6, 16, 18, 22, 27]"
      ]
    },
    {
      "cell_type": "code",
      "source": [
        "liste = [22,27,16,2,18,6]\n",
        "def sort(liste):\n",
        "  for i in range(0,6):\n",
        "    for k in range(0,6):\n",
        "      if liste[i]<=liste[k]:\n",
        "        aracı=liste[k]\n",
        "        liste[k]=liste[i]\n",
        "        liste[i]=aracı\n",
        "\n",
        "  print(liste)\n",
        "sort(liste)\n",
        "#avarage casedir\n",
        "#Big-o gösteımı o(n^2)dir"
      ],
      "metadata": {
        "colab": {
          "base_uri": "https://localhost:8080/"
        },
        "id": "GszhU29_Q2wh",
        "outputId": "3c98fbd2-8154-4afa-a41f-839935adf3e4"
      },
      "execution_count": 5,
      "outputs": [
        {
          "output_type": "stream",
          "name": "stdout",
          "text": [
            "[2, 6, 16, 18, 22, 27]\n"
          ]
        }
      ]
    }
  ]
}