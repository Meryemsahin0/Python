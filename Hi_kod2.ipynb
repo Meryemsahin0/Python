{
  "nbformat": 4,
  "nbformat_minor": 0,
  "metadata": {
    "colab": {
      "provenance": [],
      "authorship_tag": "ABX9TyMCONNAyie1c7p5DLbSlB8g",
      "include_colab_link": true
    },
    "kernelspec": {
      "name": "python3",
      "display_name": "Python 3"
    },
    "language_info": {
      "name": "python"
    }
  },
  "cells": [
    {
      "cell_type": "markdown",
      "metadata": {
        "id": "view-in-github",
        "colab_type": "text"
      },
      "source": [
        "<a href=\"https://colab.research.google.com/github/Meryemsahin0/Python/blob/main/Hi_kod2.ipynb\" target=\"_parent\"><img src=\"https://colab.research.google.com/assets/colab-badge.svg\" alt=\"Open In Colab\"/></a>"
      ]
    },
    {
      "cell_type": "code",
      "execution_count": 7,
      "metadata": {
        "colab": {
          "base_uri": "https://localhost:8080/"
        },
        "id": "vL2-hHWv93Ek",
        "outputId": "17439012-79ce-4fba-9a76-dc8d2c1df4ed"
      },
      "outputs": [
        {
          "output_type": "stream",
          "name": "stdout",
          "text": [
            "Vergi dahil maaşınız ne kadar17000\n",
            "maaşınız 8500.0\n"
          ]
        }
      ],
      "source": [
        "\"\"\"Ödev-1: Kullanıcıdan maaş bilgisini istenir ve bu bilgiye göre maaşından ne kadar vergi kesileceğini hesaplanır. Kullanıcının geliri;\n",
        "\n",
        "\n",
        " 10000 ve altındaysa maaşından %5 kesinti olur.\n",
        " 25000 ve altındaysa maaşından %10 kesinti olur.\n",
        " 45000 ve altındaysa maaşından %25 kesinti olur.\n",
        " Diğer koşullarda %30 kesinti olur.\n",
        "\n",
        "Bu durumlara göre kullanıcının yeni maaşı yazdırılır.\n",
        "\n",
        "\n",
        "Ödev-2: Kullanıcıdan kullanıcı adı ve şifre oluşturmasını istenir. Şifrenin uzunluğu altı haneye ulaşmışsa hesabınız oluşturuldu mesajı alınır, altı haneden azsa altı haneli şifre oluşturması gerektiğinin mesajı alınır. (Sadece koşul kullanılması yeterli.)\n",
        "\n",
        "\n",
        "Ödev-3: Bir önceki örnek geliştirilir.\n",
        "\n",
        "\n",
        " Kullanıcı girdiği şifre 5 ve 10 hane arasında olmak zorunda.\n",
        " Eğer bu koşula uyuyorsa \"Hesabınız oluşturuldu.\" mesajı alır.\n",
        " Koşulu sağlamıyorsa \"Lütfen girdiniz şifre 5 haneden az 10 haneden fazla olmasın!\" uyarısı alır.\n",
        " Bunu oluştururken kullanıcı istediğimiz şartlarda şifre oluşturana kadar sormaya devam eder\n",
        "\n",
        "Ödev-4: Kullanıcıdan isim ve şifre isteyeceğiz ve şifre girişi için üç hak verilir.\n",
        "\n",
        "\n",
        " Eğer önceden tanımlı şifre ile kullanıcıdan gelen şifre aynıysa \"Giriş yapıldı.\" yazar.\n",
        " Şifre girişi yanlışsa \"Yanlış şifre girildi!\" uyarısı verilsin ve üç yanlış denemede program biter.\n",
        " Tercihe göre kalan hak bilgisi verilir. \"\"\"\n",
        "#ÖDEV1\n",
        "a=int(input(\"Vergi dahil maaşınız ne kadar\"))\n",
        "if(a<=10000):\n",
        "    b=a-a*5/100\n",
        "    print(\"maaşınız {}\".format(b))\n",
        "elif(a<=25000 & a>10000):\n",
        "    b=a-a*10/100\n",
        "    print(\"maaşınız {}\".format(b))\n",
        "elif(a<=45000 & a>25000):\n",
        "    b=a-a*25/100\n",
        "    print(\"maaşınız {}\".format(b))\n",
        "else:\n",
        "    b=a-a*50/100\n",
        "    print(\"maaşınız {}\".format(b))\n",
        "\n"
      ]
    },
    {
      "cell_type": "code",
      "source": [
        "#ÖDEV2\n",
        "k=input(\"kullanıcı adını giriniz:\")\n",
        "l=input(\"Şifre giriniz:\")\n",
        "if(len(l)>=6):\n",
        "    print(\"şifre başarılı {}\".format(k))\n",
        "else:\n",
        "    print(\"şifre başarısız {}\".format(k))"
      ],
      "metadata": {
        "colab": {
          "base_uri": "https://localhost:8080/"
        },
        "id": "r6V9sB80-tyP",
        "outputId": "9a67536a-d720-4ce3-b596-2ebbce99d7e0"
      },
      "execution_count": 10,
      "outputs": [
        {
          "output_type": "stream",
          "name": "stdout",
          "text": [
            "kullanıcı adını giriniz:meryem\n",
            "Şifre giriniz:erty445\n",
            "şifre başarılı meryem\n"
          ]
        }
      ]
    },
    {
      "cell_type": "code",
      "source": [
        "#ÖDEV3\n",
        "k=input(\"kullanıcı adını giriniz:\")\n",
        "\n",
        "def dogrulama():\n",
        "    l = input(\"Şifre giriniz:\")\n",
        "    if (10 >= len(l) & len(l)>= 5):\n",
        "        print(\"şifre başarılı {}\".format(k))\n",
        "    else:\n",
        "        print(\"şifre başarısız Tekrar şifre oluşturunuz şifre 5 -10 hane bandında olmalıdır.\")\n",
        "\n",
        "dogrulama()"
      ],
      "metadata": {
        "colab": {
          "base_uri": "https://localhost:8080/"
        },
        "id": "VXuTwO-Z-t1O",
        "outputId": "2c614586-81a2-483e-c6dd-9d45ecb9bc26"
      },
      "execution_count": 11,
      "outputs": [
        {
          "output_type": "stream",
          "name": "stdout",
          "text": [
            "kullanıcı adını giriniz:meryem\n",
            "Şifre giriniz:ehjrkj43\n",
            "şifre başarılı meryem\n"
          ]
        }
      ]
    },
    {
      "cell_type": "code",
      "source": [
        "\n",
        "#Ödev4\n",
        "ad=input(\"adınızı giriniz:\")\n",
        "önceden_tanımlı_sifre=\"13k_s19\"\n",
        "i=0\n",
        "def dogrulama1(i):\n",
        "    sifre=input(\"sifre giriniz:\")\n",
        "    if(i==2):\n",
        "        print(\"hakkınız bitti.\")\n",
        "    elif(sifre==önceden_tanımlı_sifre):\n",
        "        print(\"başarılı bir giriş.\")\n",
        "    else:\n",
        "        i+=1\n",
        "        dogrulama1(i)\n",
        "dogrulama1(i)"
      ],
      "metadata": {
        "colab": {
          "base_uri": "https://localhost:8080/"
        },
        "id": "iyC67SH7-7qh",
        "outputId": "0e5b3b22-498f-47ca-8c09-39c0379c5a84"
      },
      "execution_count": 18,
      "outputs": [
        {
          "output_type": "stream",
          "name": "stdout",
          "text": [
            "adınızı giriniz:meryem\n",
            "sifre giriniz:rty\n",
            "sifre giriniz:ertyuı\n",
            "sifre giriniz:ertyu\n",
            "hakkınız bitti.\n"
          ]
        }
      ]
    }
  ]
}