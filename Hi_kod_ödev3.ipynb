{
  "nbformat": 4,
  "nbformat_minor": 0,
  "metadata": {
    "colab": {
      "provenance": [],
      "authorship_tag": "ABX9TyOkbTHpoxKs8CR4ICXADRAQ",
      "include_colab_link": true
    },
    "kernelspec": {
      "name": "python3",
      "display_name": "Python 3"
    },
    "language_info": {
      "name": "python"
    }
  },
  "cells": [
    {
      "cell_type": "markdown",
      "metadata": {
        "id": "view-in-github",
        "colab_type": "text"
      },
      "source": [
        "<a href=\"https://colab.research.google.com/github/Meryemsahin0/Python/blob/main/Hi_kod_%C3%B6dev3.ipynb\" target=\"_parent\"><img src=\"https://colab.research.google.com/assets/colab-badge.svg\" alt=\"Open In Colab\"/></a>"
      ]
    },
    {
      "cell_type": "code",
      "execution_count": null,
      "metadata": {
        "id": "WCX5HiMGZuFU"
      },
      "outputs": [],
      "source": [
        "\"\"\"• Kullanıcıdan pi değeri ve yarıçap bilgisi alarak dairenin alanını hesaplayan bir fonksiyon oluşturulur.\n",
        "\n",
        "\n",
        "• Faktöriyel adında fonksiyon oluşturulur. Döngü kullanarak parametre olarak girilen sayının faktöriyeli hesaplanır. Format metodunu kullanılarak ekrana yazdırılır.\n",
        "\n",
        "\n",
        "• Kişinin fonksiyona doğum yılını vererek kaç yaşında olduğunu hesaplayan bir fonksiyon oluşturun.\n",
        "\n",
        "\n",
        "• Doğum yılı ve isim bilgisi verilen fonksiyon kişinin emekli olup olmadığını söylesin.\n",
        "(Kişi 65 yaşında ise emekli olur.) Burada yaş hesabını yukarıdaki örnekteki fonksiyonu kullanarak yapsın.(\n",
        "  Yani fonksiyon içinde fonksiyon kullanmanızı istiyorum :)) Kişi 65 yaşında ya da daha fazlaysa \"Emekli oldunuz\" yanıtını,\n",
        "  65 yaşından küçükse emekliliğine kaç yıl kaldığını da hesaplayarak \"(isim) emekliliğine (yıl) kaldı.\" yanıtını versin.\"\"\""
      ]
    },
    {
      "cell_type": "code",
      "source": [
        "pi=int(input(\"pi değerini giriniz.\"))\n",
        "r=int(input(\"yarıçapı giriniz.\"))\n",
        "dairenin_alanı=pi*r*r\n",
        "print(dairenin_alanı)"
      ],
      "metadata": {
        "colab": {
          "base_uri": "https://localhost:8080/"
        },
        "id": "OrgDQz5BL1lR",
        "outputId": "c4f48009-af23-44a1-cc28-fe76a5399b9d"
      },
      "execution_count": null,
      "outputs": [
        {
          "output_type": "stream",
          "name": "stdout",
          "text": [
            "pi değerini giriniz.3\n",
            "yarıçapı giriniz.2\n",
            "12\n"
          ]
        }
      ]
    },
    {
      "cell_type": "code",
      "source": [
        "faktöriyeli_alınacak_sayı=int(input(\"faktöriyelini almak istediğininiz sayıyı giriniz.  \"))\n",
        "def faktöriyel_hesapla(faktöriyeli_alınacak_sayı):\n",
        "  aracı=1\n",
        "  for sayı in range(1,faktöriyeli_alınacak_sayı+1):\n",
        "    sonuç=sayı*aracı\n",
        "    aracı=sonuç\n",
        "  print(\"şonuç..:{}\".format(sonuç))\n",
        "\n",
        "faktöriyel_hesapla(faktöriyeli_alınacak_sayı)"
      ],
      "metadata": {
        "id": "Y9J12bFjMduN",
        "colab": {
          "base_uri": "https://localhost:8080/"
        },
        "outputId": "64f72d6e-eba2-4055-d215-3dae4de62899"
      },
      "execution_count": 4,
      "outputs": [
        {
          "output_type": "stream",
          "name": "stdout",
          "text": [
            "faktöriyelini almak istediğininiz sayıyı giriniz.  5\n",
            "şonuç..:120\n"
          ]
        }
      ]
    },
    {
      "cell_type": "code",
      "source": [
        "Doğulan_yıl=int(input(\"Hangi yıl doğdun..:\"))\n",
        "def yas(Doğulan_yıl):\n",
        "  yas1=2024-Doğulan_yıl\n",
        "  print(yas1)\n",
        "yas(Doğulan_yıl)"
      ],
      "metadata": {
        "colab": {
          "base_uri": "https://localhost:8080/"
        },
        "id": "MpTNmwGktjKK",
        "outputId": "d66c9cf2-0194-4f5c-a022-4c955083d7b9"
      },
      "execution_count": 7,
      "outputs": [
        {
          "output_type": "stream",
          "name": "stdout",
          "text": [
            "Hangi yıl doğdun..:2004\n",
            "20\n"
          ]
        }
      ]
    },
    {
      "cell_type": "code",
      "source": [
        "Doğulan_yıl=int(input(\"Hangi yıl doğdun..:\"))\n",
        "def yas(Doğulan_yıl):\n",
        "  yas1=2024-Doğulan_yıl\n",
        "  if yas1>=65:\n",
        "    print(\"emekli oldunuz\")\n",
        "  else :\n",
        "    emekliliğe_kalan_yıl=65-yas1\n",
        "    print(\"Emekliliğinize {} yıl kaldı.\".format(emekliliğe_kalan_yıl))\n",
        "yas(Doğulan_yıl)\n"
      ],
      "metadata": {
        "colab": {
          "base_uri": "https://localhost:8080/"
        },
        "id": "aYKQ7-OducZz",
        "outputId": "a23915ab-2f99-4941-f633-7593a6d2f575"
      },
      "execution_count": 8,
      "outputs": [
        {
          "output_type": "stream",
          "name": "stdout",
          "text": [
            "Hangi yıl doğdun..:2004\n",
            "Emekliliğinize 45 yıl kaldı.\n"
          ]
        }
      ]
    }
  ]
}